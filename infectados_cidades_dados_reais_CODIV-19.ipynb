{
 "cells": [
  {
   "cell_type": "code",
   "execution_count": 2,
   "id": "2ac3a557",
   "metadata": {},
   "outputs": [],
   "source": [
    "import numpy as np, matplotlib.pyplot as plt, pandas as pd\n",
    "from scipy.integrate import solve_ivp"
   ]
  },
  {
   "cell_type": "markdown",
   "id": "bea9ac50",
   "metadata": {},
   "source": [
    "# Fonte dos dados: http://sistemas.saude.rj.gov.br/tabnetbd/dhx.exe?covid19/esus_sivep.def"
   ]
  },
  {
   "cell_type": "code",
   "execution_count": 12,
   "id": "ebcdcfc2",
   "metadata": {},
   "outputs": [],
   "source": [
    "população_niteroi = 515317\n",
    "população_rio = 6775561\n",
    "população_tangua = 34898\n",
    "\n",
    "# Labels do eixo horizontal.\n",
    "lista = []\n",
    "for ano in range(2020,2023,1):\n",
    "    for mes in range(1,13,1):\n",
    "        if mes < 10:\n",
    "            lista.append(f'{ano}/0{mes}/01')\n",
    "        else:\n",
    "            lista.append(f'{ano}/{mes}/01')\n",
    "labels_lista = lista[3:27]"
   ]
  },
  {
   "cell_type": "markdown",
   "id": "cfebaecf",
   "metadata": {},
   "source": [
    "# Sobre a cidade Tanguá"
   ]
  },
  {
   "cell_type": "code",
   "execution_count": 13,
   "id": "c3afd819",
   "metadata": {},
   "outputs": [],
   "source": [
    "url = 'https://raw.githubusercontent.com/isplay/projeto_propagacao_epidemias/main/csv/Infectados_em_Tangu%C3%A1.csv'\n",
    "dados0 = pd.read_csv(url, index_col=0)"
   ]
  },
  {
   "cell_type": "code",
   "execution_count": 14,
   "id": "d8e831c8",
   "metadata": {},
   "outputs": [],
   "source": [
    "dados0_y_tangua = dados0['Tanguá'].to_numpy()/população_tangua\n",
    "dados0_x_tangua = dados0.index.to_numpy()\n",
    "\n",
    "fig, ax = plt.subplots(figsize=(15,8))\n",
    "ax.plot(dados0_x_tangua, dados0_y_tangua, label='Casos confirmados.')\n",
    "ax.grid(True)\n",
    "ax.legend(frameon=False, fontsize=13)\n",
    "ax.set_xticks(labels_lista)\n",
    "fig.autofmt_xdate(rotation=45)\n",
    "plt.title('Infectados na cidade Tanguá.')\n",
    "plt.savefig('tangua.png')\n",
    "#ax.set_ylim([0,40000])"
   ]
  },
  {
   "cell_type": "markdown",
   "id": "1c92b3d1",
   "metadata": {},
   "source": [
    "# Sobre a cidade Rio de Janeiro"
   ]
  },
  {
   "cell_type": "code",
   "execution_count": 15,
   "id": "88ac7383",
   "metadata": {},
   "outputs": [],
   "source": [
    "url = 'https://raw.githubusercontent.com/isplay/projeto_propagacao_epidemias/main/csv/Infectados_em_Rio_de_Janeiro(cidade).csv'\n",
    "dados0 = pd.read_csv(url, index_col=0)"
   ]
  },
  {
   "cell_type": "code",
   "execution_count": 16,
   "id": "23195c6b",
   "metadata": {},
   "outputs": [],
   "source": [
    "dados0_y_rj = dados0['Rio de Janeiro'].to_numpy()/população_rio\n",
    "dados0_x_rj = dados0.index.to_numpy()\n",
    "\n",
    "fig, ax = plt.subplots(figsize=(15,8))\n",
    "ax.plot(dados0_x_rj, dados0_y_rj)\n",
    "ax.grid(True)\n",
    "ax.set_xticks(labels_lista)\n",
    "fig.autofmt_xdate(rotation=45)\n",
    "plt.title('Infectados na cidade Rio de Janeiro.')\n",
    "#ax.set_ylim([0,40000])\n",
    "plt.savefig('Rio.png')"
   ]
  },
  {
   "cell_type": "markdown",
   "id": "f29cd2b5",
   "metadata": {},
   "source": [
    "# Sobre a cidade Niterói"
   ]
  },
  {
   "cell_type": "code",
   "execution_count": 17,
   "id": "a92718ce",
   "metadata": {},
   "outputs": [],
   "source": [
    "url = 'https://raw.githubusercontent.com/isplay/projeto_propagacao_epidemias/main/csv/Infectados_em_Niter%C3%B3i.csv'\n",
    "dados0 = pd.read_csv(url, index_col=0)"
   ]
  },
  {
   "cell_type": "code",
   "execution_count": 18,
   "id": "ad3653ec",
   "metadata": {},
   "outputs": [],
   "source": [
    "dados0_y_niteroi = dados0['Casos'].to_numpy()/população_niteroi\n",
    "dados0_x_niteroi = dados0.index.to_numpy()\n",
    "\n",
    "fig, ax = plt.subplots(figsize=(15,8))\n",
    "ax.plot(dados0_x_niteroi, dados0_y_niteroi)\n",
    "ax.grid(True)\n",
    "ax.set_xticks(labels_lista)\n",
    "fig.autofmt_xdate(rotation=45)\n",
    "plt.title('Infectados na cidade Niterói')\n",
    "plt.savefig('niteroi.png')"
   ]
  },
  {
   "cell_type": "markdown",
   "id": "693e4fdd",
   "metadata": {},
   "source": [
    "# Gráfico com os dados das cidades do Rio de Janeiro, Niterói e Tanguá."
   ]
  },
  {
   "cell_type": "code",
   "execution_count": 22,
   "id": "0f10c66e",
   "metadata": {},
   "outputs": [],
   "source": [
    "fig, ax = plt.subplots(figsize=(15,10))\n",
    "ax.plot(dados0_x_rj, dados0_y_rj, label=f'Cidade Rio de Janeiro. Pop.: {população_rio}')\n",
    "ax.plot(dados0_x_niteroi, dados0_y_niteroi, label=f'Cidade Niterói. Pop.: {população_niteroi}')\n",
    "ax.plot(dados0_x_tangua, dados0_y_tangua,lw=1, label=f'Cidade Tanguá. Pop.: {população_tangua}')\n",
    "ax.grid(True)\n",
    "ax.legend(frameon=False, fontsize=13)\n",
    "ax.set_xticks(labels_lista)\n",
    "fig.autofmt_xdate(rotation=45)\n",
    "ax.set_title('Dados sobre a COVID-19')\n",
    "ax.set_ylabel('Infectados')\n",
    "\n",
    "#ax.set_ylim([0,5000])\n",
    "#ax.set_xlim(['2021/11/01','2022/03/01'])\n",
    "plt.savefig('Cidades.png')\n"
   ]
  },
  {
   "cell_type": "markdown",
   "id": "65f08de2",
   "metadata": {},
   "source": [
    "# "
   ]
  }
 ],
 "metadata": {
  "kernelspec": {
   "display_name": "Python 3 (ipykernel)",
   "language": "python",
   "name": "python3"
  },
  "language_info": {
   "codemirror_mode": {
    "name": "ipython",
    "version": 3
   },
   "file_extension": ".py",
   "mimetype": "text/x-python",
   "name": "python",
   "nbconvert_exporter": "python",
   "pygments_lexer": "ipython3",
   "version": "3.9.7"
  }
 },
 "nbformat": 4,
 "nbformat_minor": 5
}
